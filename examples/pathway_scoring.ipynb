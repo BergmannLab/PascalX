{
 "cells": [
  {
   "cell_type": "markdown",
   "metadata": {},
   "source": [
    "# Example: Pathway scoring"
   ]
  },
  {
   "cell_type": "markdown",
   "metadata": {},
   "source": [
    "## Part I: Gene scoring"
   ]
  },
  {
   "cell_type": "markdown",
   "metadata": {},
   "source": [
    "In case you have not downloaded and imported a reference panel yet, open a terminal and execute in the PascalX/misc folder:\n",
    "\n",
    "```bash get1KGGRCh38.sh /yourfolder/ EUR```\n",
    "\n",
    "This command will download and plink convert 1KG project data for the european subpolulation. The data will be stored in ```/yourfolder/```. \n",
    "\n",
    "NOTE: The refpanel in the ```demo/``` folder is for chr 1 only and simulated !"
   ]
  },
  {
   "cell_type": "markdown",
   "metadata": {},
   "source": [
    "#### Load the gene scorer:"
   ]
  },
  {
   "cell_type": "code",
   "execution_count": 1,
   "metadata": {},
   "outputs": [],
   "source": [
    "from PascalX import genescorer\n",
    "\n",
    "Gscorer = genescorer.chi2sum(window=50000,varcutoff=0.99)"
   ]
  },
  {
   "cell_type": "markdown",
   "metadata": {},
   "source": [
    "#### Load the reference panel into the genescorer:"
   ]
  },
  {
   "cell_type": "code",
   "execution_count": 2,
   "metadata": {},
   "outputs": [
    {
     "name": "stdout",
     "output_type": "stream",
     "text": [
      "Reference panel data not imported. Trying to import...\n",
      "ERROR:  ../demo/EUR.simulated.chr2.(tped|vcf).gz not found\n"
     ]
    }
   ],
   "source": [
    "Gscorer.load_refpanel('../demo/EUR.simulated',parallel=1)\n",
    "    "
   ]
  },
  {
   "cell_type": "markdown",
   "metadata": {},
   "source": [
    "The first time this command is executed for a reference panel, an internal SNP database will be generated on disk. This process may take several hours. You can use the ```parallel=``` option to speed up via parallelization. Subsequent calls of this method will be very fast."
   ]
  },
  {
   "cell_type": "markdown",
   "metadata": {},
   "source": [
    "#### Load a gene annotation:"
   ]
  },
  {
   "cell_type": "markdown",
   "metadata": {},
   "source": [
    "If you do not have a gene annotation yet, you can download automatically from BioMart via"
   ]
  },
  {
   "cell_type": "code",
   "execution_count": 3,
   "metadata": {},
   "outputs": [
    {
     "name": "stdout",
     "output_type": "stream",
     "text": [
      "Downloading gene annotation from ensembl.org BioMart [ protein_coding ] ( GRCh38 )\n"
     ]
    }
   ],
   "source": [
    "from PascalX.genome import genome\n",
    "\n",
    "G = genome()\n",
    "G.get_ensembl_annotation('biomart_GRCh38.tsv')"
   ]
  },
  {
   "cell_type": "markdown",
   "metadata": {},
   "source": [
    "The annotation will be saved in the file ```biomart_GRCh38.tsv```. \n",
    "\n",
    "You still need to load the annotation into the genescorer as follows:"
   ]
  },
  {
   "cell_type": "code",
   "execution_count": 3,
   "metadata": {},
   "outputs": [
    {
     "name": "stdout",
     "output_type": "stream",
     "text": [
      "18498 active genes\n"
     ]
    }
   ],
   "source": [
    "Gscorer.load_genome('biomart_GRCh38.tsv')"
   ]
  },
  {
   "cell_type": "markdown",
   "metadata": {},
   "source": [
    "#### Load a GWAS:"
   ]
  },
  {
   "cell_type": "code",
   "execution_count": 4,
   "metadata": {},
   "outputs": [
    {
     "name": "stdout",
     "output_type": "stream",
     "text": [
      "331769 SNPs loaded\n"
     ]
    }
   ],
   "source": [
    "Gscorer.load_GWAS(\"../demo/gwasA.tsv.gz\",rscol=0,pcol=4,header=False)\n"
   ]
  },
  {
   "cell_type": "markdown",
   "metadata": {},
   "source": [
    "You can either load a raw text file or gzip compressed with file ending .gz"
   ]
  },
  {
   "cell_type": "markdown",
   "metadata": {},
   "source": [
    "#### Start the scoring:"
   ]
  },
  {
   "cell_type": "code",
   "execution_count": 5,
   "metadata": {},
   "outputs": [
    {
     "name": "stdout",
     "output_type": "stream",
     "text": [
      " "
     ]
    },
    {
     "data": {
      "application/vnd.jupyter.widget-view+json": {
       "model_id": "2afadf27aa1e467b8070ea2f254d8423",
       "version_major": 2,
       "version_minor": 0
      },
      "text/plain": [
       "  0%|           [ estimated time left: ? ]"
      ]
     },
     "metadata": {},
     "output_type": "display_data"
    },
    {
     "name": "stdout",
     "output_type": "stream",
     "text": [
      "2010 genes scored\n",
      "16488 genes can not be scored (check annotation)\n"
     ]
    }
   ],
   "source": [
    "RS = Gscorer.score_all(parallel=1,nobar=False)"
   ]
  },
  {
   "cell_type": "markdown",
   "metadata": {},
   "source": [
    "Use the ```parallel=``` option to increase the number of cpu cores to use (make sure that you have sufficient memory). Note that you can switch off the progress bar via setting ```nobar=True```."
   ]
  },
  {
   "cell_type": "markdown",
   "metadata": {},
   "source": [
    "## Part II: Pathway scoring"
   ]
  },
  {
   "cell_type": "code",
   "execution_count": 6,
   "metadata": {},
   "outputs": [],
   "source": [
    "from PascalX import pathway"
   ]
  },
  {
   "cell_type": "markdown",
   "metadata": {},
   "source": [
    "#### Load a pathway scorer:"
   ]
  },
  {
   "cell_type": "code",
   "execution_count": 7,
   "metadata": {},
   "outputs": [],
   "source": [
    "Pscorer = pathway.chi2rank(Gscorer)"
   ]
  },
  {
   "cell_type": "markdown",
   "metadata": {},
   "source": [
    "Note that ```Scorer``` has to be a fully initialized genescorer, see part I above."
   ]
  },
  {
   "cell_type": "markdown",
   "metadata": {},
   "source": [
    "#### Load modules / pathways to score:"
   ]
  },
  {
   "cell_type": "code",
   "execution_count": 9,
   "metadata": {},
   "outputs": [
    {
     "name": "stdout",
     "output_type": "stream",
     "text": [
      "1 modules loaded\n"
     ]
    }
   ],
   "source": [
    "M = Pscorer.load_modules(\"../demo/pw_test.tsv\",ncol=0,fcol=2)\n"
   ]
  },
  {
   "cell_type": "markdown",
   "metadata": {},
   "source": [
    "```ncol=``` has to be set to the column of the tab separated file containing the name of the module and ```fcol=``` the first column with a gene symbol. "
   ]
  },
  {
   "cell_type": "code",
   "execution_count": 10,
   "metadata": {},
   "outputs": [
    {
     "name": "stdout",
     "output_type": "stream",
     "text": [
      "Scoring 2 missing (meta)-genes\n",
      " "
     ]
    },
    {
     "data": {
      "application/vnd.jupyter.widget-view+json": {
       "model_id": "9c5425eda65544508109a2c28dee122e",
       "version_major": 2,
       "version_minor": 0
      },
      "text/plain": [
       "  0%|           [ estimated time left: ? ]"
      ]
     },
     "metadata": {},
     "output_type": "display_data"
    },
    {
     "name": "stdout",
     "output_type": "stream",
     "text": [
      "2 genes scored\n"
     ]
    }
   ],
   "source": [
    "R = Pscorer.score(M,parallel=1)"
   ]
  },
  {
   "cell_type": "markdown",
   "metadata": {},
   "source": [
    "#### List significant pathways:"
   ]
  },
  {
   "cell_type": "code",
   "execution_count": 13,
   "metadata": {},
   "outputs": [
    {
     "name": "stdout",
     "output_type": "stream",
     "text": [
      "0 PATHWAY_X | 6.219056261820743e-05\n"
     ]
    }
   ],
   "source": [
    "Pscorer.get_sigpathways(R,cutoff=1e-4)"
   ]
  }
 ],
 "metadata": {
  "kernelspec": {
   "display_name": "Python 3 (ipykernel)",
   "language": "python",
   "name": "python3"
  },
  "language_info": {
   "codemirror_mode": {
    "name": "ipython",
    "version": 3
   },
   "file_extension": ".py",
   "mimetype": "text/x-python",
   "name": "python",
   "nbconvert_exporter": "python",
   "pygments_lexer": "ipython3",
   "version": "3.7.5"
  }
 },
 "nbformat": 4,
 "nbformat_minor": 4
}
