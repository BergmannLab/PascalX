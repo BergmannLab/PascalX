{
 "cells": [
  {
   "cell_type": "markdown",
   "metadata": {},
   "source": [
    "# Example: Pathway scoring"
   ]
  },
  {
   "cell_type": "markdown",
   "metadata": {},
   "source": [
    "## Part I: Gene scoring"
   ]
  },
  {
   "cell_type": "markdown",
   "metadata": {},
   "source": [
    "In case you have not downloaded and imported a reference panel yet, open a terminal and execute in the PascalX/misc folder:\n",
    "\n",
    "```bash get1KGGRCh38.sh /yourfolder/ EUR```\n",
    "\n",
    "This command will download and plink convert 1KG project data for the european subpolulation. The data will be stored in ```/yourfolder/```. "
   ]
  },
  {
   "cell_type": "markdown",
   "metadata": {},
   "source": [
    "#### Load the gene scorer:"
   ]
  },
  {
   "cell_type": "code",
   "execution_count": 1,
   "metadata": {},
   "outputs": [],
   "source": [
    "from PascalX import genescorer\n",
    "\n",
    "Gscorer = genescorer.chi2sum(window=50000,varcutoff=0.95)"
   ]
  },
  {
   "cell_type": "markdown",
   "metadata": {},
   "source": [
    "#### Load the reference panel into the genescorer:"
   ]
  },
  {
   "cell_type": "code",
   "execution_count": 2,
   "metadata": {},
   "outputs": [],
   "source": [
    "Gscorer.load_refpanel('/yourfolder/EUR.1KGphase3.GRCh38',parallel=1)\n",
    "    "
   ]
  },
  {
   "cell_type": "markdown",
   "metadata": {},
   "source": [
    "The first time this command is executed for a reference panel, an internal SNP database will be generated on disk. This process may take several hours. You can use the ```parallel=``` option to speed up via parallelization. Subsequent calls of this method will be very fast."
   ]
  },
  {
   "cell_type": "markdown",
   "metadata": {},
   "source": [
    "#### Load a gene annotation:"
   ]
  },
  {
   "cell_type": "markdown",
   "metadata": {},
   "source": [
    "If you do not have a gene annotation yet, you can download automatically from BioMart via"
   ]
  },
  {
   "cell_type": "code",
   "execution_count": 3,
   "metadata": {},
   "outputs": [
    {
     "name": "stdout",
     "output_type": "stream",
     "text": [
      "Downloading gene annotation from ensembl.org BioMart [ protein_coding ] ( GRCh38 )\n"
     ]
    }
   ],
   "source": [
    "from PascalX.genome import genome\n",
    "\n",
    "G = genome()\n",
    "G.get_ensembl_annotation('biomart_GRCh38.tsv')"
   ]
  },
  {
   "cell_type": "markdown",
   "metadata": {},
   "source": [
    "The annotation will be saved in the file ```biomart_GRCh38.tsv```. \n",
    "\n",
    "You still need to load the annotation into the genescorer as follows:"
   ]
  },
  {
   "cell_type": "code",
   "execution_count": 4,
   "metadata": {},
   "outputs": [
    {
     "name": "stdout",
     "output_type": "stream",
     "text": [
      "19024 active genes\n"
     ]
    }
   ],
   "source": [
    "Gscorer.load_genome('biomart_GRCh38.tsv')"
   ]
  },
  {
   "cell_type": "markdown",
   "metadata": {},
   "source": [
    "#### Load a GWAS:"
   ]
  },
  {
   "cell_type": "code",
   "execution_count": 5,
   "metadata": {},
   "outputs": [
    {
     "name": "stdout",
     "output_type": "stream",
     "text": [
      "32706 SNPs loaded\n"
     ]
    }
   ],
   "source": [
    "Gscorer.load_GWAS(\"path/gwasfilename\",rscol=0,pcol=1,header=False)\n"
   ]
  },
  {
   "cell_type": "markdown",
   "metadata": {},
   "source": [
    "You can either load a raw text file or gzip compressed with file ending .gz"
   ]
  },
  {
   "cell_type": "markdown",
   "metadata": {},
   "source": [
    "#### Start the scoring:"
   ]
  },
  {
   "cell_type": "code",
   "execution_count": 6,
   "metadata": {},
   "outputs": [
    {
     "name": "stdout",
     "output_type": "stream",
     "text": [
      "[chr1] (done          ): 100%|██████████ [ estimated time left: 00:00 ]   \n",
      "[chr2] (done          ): 100%|██████████ [ estimated time left: 00:00 ]   \n",
      "[chr3] (done          ): 100%|██████████ [ estimated time left: 00:00 ]   \n",
      "[chr4] (done          ): 100%|██████████ [ estimated time left: 00:00 ]   \n",
      "[chr5] (done          ): 100%|██████████ [ estimated time left: 00:00 ]   \n",
      "[chr6] (done          ): 100%|██████████ [ estimated time left: 00:00 ]   \n",
      "[chr7] (done          ): 100%|██████████ [ estimated time left: 00:00 ]   \n",
      "[chr8] (done          ): 100%|██████████ [ estimated time left: 00:00 ]   \n",
      "[chr9] (done          ): 100%|██████████ [ estimated time left: 00:00 ]   \n",
      "[chr10] (done          ): 100%|██████████ [ estimated time left: 00:00 ]   \n",
      "[chr11] (done          ): 100%|██████████ [ estimated time left: 00:00 ]   \n",
      "[chr12] (done          ): 100%|██████████ [ estimated time left: 00:00 ]   \n",
      "[chr13] (done          ): 100%|██████████ [ estimated time left: 00:00 ] \n",
      "[chr14] (done          ): 100%|██████████ [ estimated time left: 00:00 ] \n",
      "[chr15] (done          ): 100%|██████████ [ estimated time left: 00:00 ] \n",
      "[chr16] (done          ): 100%|██████████ [ estimated time left: 00:00 ] \n",
      "[chr17] (done          ): 100%|██████████ [ estimated time left: 00:00 ]   \n",
      "[chr18] (done          ): 100%|██████████ [ estimated time left: 00:00 ] \n",
      "[chr19] (done          ): 100%|██████████ [ estimated time left: 00:00 ]   \n",
      "[chr20] (done          ): 100%|██████████ [ estimated time left: 00:00 ] \n",
      "[chr21] (done          ): 100%|██████████ [ estimated time left: 00:00 ] \n",
      "[chr22] (done          ): 100%|██████████ [ estimated time left: 00:00 ] \n",
      "8094 genes scored\n",
      "10930 genes can not be scored (check annotation)\n"
     ]
    }
   ],
   "source": [
    "RS = Gscorer.score_all(parallel=1,nobar=False)"
   ]
  },
  {
   "cell_type": "markdown",
   "metadata": {},
   "source": [
    "Use the ```parallel=``` option to increase the number of cpu cores to use (make sure that you have sufficient memory). Note that for ```parallel!=1``` it is recommended to switch off the progress bar via setting ```nobar=True```"
   ]
  },
  {
   "cell_type": "markdown",
   "metadata": {},
   "source": [
    "## Part II: Pathway scoring"
   ]
  },
  {
   "cell_type": "code",
   "execution_count": 7,
   "metadata": {},
   "outputs": [],
   "source": [
    "from PascalX import pathway"
   ]
  },
  {
   "cell_type": "markdown",
   "metadata": {},
   "source": [
    "#### Load a pathway scorer:"
   ]
  },
  {
   "cell_type": "code",
   "execution_count": 8,
   "metadata": {},
   "outputs": [],
   "source": [
    "Pscorer = pathway.chi2rank(Gscorer)"
   ]
  },
  {
   "cell_type": "markdown",
   "metadata": {},
   "source": [
    "Note that ```Scorer``` has to be a fully initialized genescorer, see part I above."
   ]
  },
  {
   "cell_type": "markdown",
   "metadata": {},
   "source": [
    "#### Load modules / pathways to score:"
   ]
  },
  {
   "cell_type": "code",
   "execution_count": 9,
   "metadata": {},
   "outputs": [
    {
     "name": "stdout",
     "output_type": "stream",
     "text": [
      "2400 modules loaded\n"
     ]
    }
   ],
   "source": [
    "M = Pscorer.load_modules(\"filename.tsv\",ncol=0,fcol=2)\n"
   ]
  },
  {
   "cell_type": "markdown",
   "metadata": {},
   "source": [
    "```ncol=``` has to be set to the column of the tab separated file containing the name of the module and ```fcol=``` the first column with a gene symbol. "
   ]
  },
  {
   "cell_type": "code",
   "execution_count": 10,
   "metadata": {},
   "outputs": [
    {
     "name": "stdout",
     "output_type": "stream",
     "text": [
      "Scoring 7423 missing (meta)-genes\n",
      "(done          ): 100%|██████████ [ estimated time left: 00:00 ]                                                                                                                                                                                                                                                                                                                                                                                                                                                                 \n",
      "1400 genes scored\n",
      "6023 genes can not be scored (check annotation)\n"
     ]
    }
   ],
   "source": [
    "R = Pscorer.score(M,parallel=1)"
   ]
  },
  {
   "cell_type": "markdown",
   "metadata": {},
   "source": [
    "#### List significant pathways:"
   ]
  },
  {
   "cell_type": "code",
   "execution_count": 16,
   "metadata": {},
   "outputs": [
    {
     "name": "stdout",
     "output_type": "stream",
     "text": [
      "1403 Neuronal System | 1.4933631349374102e-09\n",
      "1920 Signal Transduction | 4.794817236310414e-06\n",
      "2252 Transmission across Chemical Synapses | 2.5467482889240234e-07\n"
     ]
    }
   ],
   "source": [
    "Pscorer.get_sigpathways(R,cutoff=1e-5)"
   ]
  }
 ],
 "metadata": {
  "kernelspec": {
   "display_name": "Python 3",
   "language": "python",
   "name": "python3"
  },
  "language_info": {
   "codemirror_mode": {
    "name": "ipython",
    "version": 3
   },
   "file_extension": ".py",
   "mimetype": "text/x-python",
   "name": "python",
   "nbconvert_exporter": "python",
   "pygments_lexer": "ipython3",
   "version": "3.7.9"
  }
 },
 "nbformat": 4,
 "nbformat_minor": 4
}
